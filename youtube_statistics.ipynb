{
 "cells": [
  {
   "cell_type": "markdown",
   "id": "87acaa3e-f737-4aa0-b5af-889c1ba51be6",
   "metadata": {},
   "source": [
    "# Youtube views prediction\n",
    "* Context: Want to predict youtube video views based on some variables using linear regression"
   ]
  },
  {
   "cell_type": "markdown",
   "id": "177c0c23-3f72-4367-a7fc-87cc010a2466",
   "metadata": {},
   "source": [
    "### Importing library and dataset"
   ]
  },
  {
   "cell_type": "code",
   "execution_count": 26,
   "id": "e7326dff-2a09-4296-a6fe-440ad2ea953e",
   "metadata": {},
   "outputs": [],
   "source": [
    "# Standard python libraries\n",
    "import numpy as np\n",
    "import pandas as pd\n",
    "import seaborn as sns\n",
    "import matplotlib.pyplot as plt\n",
    "%matplotlib inline\n",
    "import warnings\n",
    "warnings.filterwarnings('ignore')\n",
    "from scipy.stats import uniform\n",
    "\n",
    "# Preprocessing libraries\n",
    "from sklearn.preprocessing import MinMaxScaler, StandardScaler, QuantileTransformer\n",
    "from sklearn.compose import TransformedTargetRegressor\n",
    "\n",
    "# Modelling libraries\n",
    "from sklearn.model_selection import train_test_split, RandomizedSearchCV, GridSearchCV\n",
    "from sklearn.tree import DecisionTreeRegressor\n",
    "from sklearn.ensemble import RandomForestRegressor, GradientBoostingRegressor \n",
    "from sklearn.linear_model import ElasticNet\n",
    "from xgboost import XGBRegressor\n",
    "from lightgbm import LGBMRegressor\n",
    "\n",
    "# Evaluation libraries\n",
    "from sklearn.metrics import mean_squared_error, mean_absolute_error, r2_score"
   ]
  },
  {
   "cell_type": "code",
   "execution_count": 2,
   "id": "464dd0a4-0a16-4d4a-b197-bc644c8768f8",
   "metadata": {},
   "outputs": [],
   "source": [
    "# Importing dataset from local storage\n",
    "df = pd.read_excel('youtube_statistics.xlsx')"
   ]
  },
  {
   "cell_type": "markdown",
   "id": "89a440da-4771-48b9-91d3-a775a59b7571",
   "metadata": {},
   "source": [
    "# EDA"
   ]
  },
  {
   "cell_type": "code",
   "execution_count": 3,
   "id": "414b8174-3944-418c-a861-be2a8c294645",
   "metadata": {},
   "outputs": [
    {
     "data": {
      "text/html": [
       "<div>\n",
       "<style scoped>\n",
       "    .dataframe tbody tr th:only-of-type {\n",
       "        vertical-align: middle;\n",
       "    }\n",
       "\n",
       "    .dataframe tbody tr th {\n",
       "        vertical-align: top;\n",
       "    }\n",
       "\n",
       "    .dataframe thead th {\n",
       "        text-align: right;\n",
       "    }\n",
       "</style>\n",
       "<table border=\"1\" class=\"dataframe\">\n",
       "  <thead>\n",
       "    <tr style=\"text-align: right;\">\n",
       "      <th></th>\n",
       "      <th>trending_date</th>\n",
       "      <th>title</th>\n",
       "      <th>channel_title</th>\n",
       "      <th>category_id</th>\n",
       "      <th>publish_time</th>\n",
       "      <th>tags</th>\n",
       "      <th>views</th>\n",
       "      <th>likes</th>\n",
       "      <th>dislikes</th>\n",
       "      <th>comment_count</th>\n",
       "      <th>comments_disabled</th>\n",
       "      <th>ratings_disabled</th>\n",
       "      <th>video_error_or_removed</th>\n",
       "      <th>description</th>\n",
       "      <th>No_tags</th>\n",
       "      <th>desc_len</th>\n",
       "      <th>len_title</th>\n",
       "      <th>publish_date</th>\n",
       "    </tr>\n",
       "  </thead>\n",
       "  <tbody>\n",
       "    <tr>\n",
       "      <th>0</th>\n",
       "      <td>2017-11-14</td>\n",
       "      <td>Sharry Mann: Cute Munda ( Song Teaser) | Parmi...</td>\n",
       "      <td>Lokdhun Punjabi</td>\n",
       "      <td>1</td>\n",
       "      <td>12:20:39</td>\n",
       "      <td>sharry mann|\"sharry mann new song\"|\"sharry man...</td>\n",
       "      <td>1096327</td>\n",
       "      <td>33966</td>\n",
       "      <td>798</td>\n",
       "      <td>882</td>\n",
       "      <td>False</td>\n",
       "      <td>False</td>\n",
       "      <td>False</td>\n",
       "      <td>Presenting Sharry Mann latest Punjabi Song  Cu...</td>\n",
       "      <td>15</td>\n",
       "      <td>920</td>\n",
       "      <td>81</td>\n",
       "      <td>2017-11-12</td>\n",
       "    </tr>\n",
       "    <tr>\n",
       "      <th>1</th>\n",
       "      <td>2017-11-14</td>\n",
       "      <td>पीरियड्स के समय, पेट पर पति करता ऐसा, देखकर दं...</td>\n",
       "      <td>HJ NEWS</td>\n",
       "      <td>25</td>\n",
       "      <td>05:43:56</td>\n",
       "      <td>पीरियड्स के समय|\"पेट पर पति करता ऐसा\"|\"देखकर द...</td>\n",
       "      <td>590101</td>\n",
       "      <td>735</td>\n",
       "      <td>904</td>\n",
       "      <td>0</td>\n",
       "      <td>True</td>\n",
       "      <td>False</td>\n",
       "      <td>False</td>\n",
       "      <td>पीरियड्स के समय, पेट पर पति करता ऐसा, देखकर दं...</td>\n",
       "      <td>19</td>\n",
       "      <td>2232</td>\n",
       "      <td>58</td>\n",
       "      <td>2017-11-13</td>\n",
       "    </tr>\n",
       "    <tr>\n",
       "      <th>2</th>\n",
       "      <td>2017-11-14</td>\n",
       "      <td>Stylish Star Allu Arjun @ ChaySam Wedding Rece...</td>\n",
       "      <td>TFPC</td>\n",
       "      <td>24</td>\n",
       "      <td>15:48:08</td>\n",
       "      <td>Stylish Star Allu Arjun @ ChaySam Wedding Rece...</td>\n",
       "      <td>473988</td>\n",
       "      <td>2011</td>\n",
       "      <td>243</td>\n",
       "      <td>149</td>\n",
       "      <td>False</td>\n",
       "      <td>False</td>\n",
       "      <td>False</td>\n",
       "      <td>Watch Stylish Star Allu Arjun @ ChaySam Weddin...</td>\n",
       "      <td>14</td>\n",
       "      <td>482</td>\n",
       "      <td>58</td>\n",
       "      <td>2017-11-12</td>\n",
       "    </tr>\n",
       "  </tbody>\n",
       "</table>\n",
       "</div>"
      ],
      "text/plain": [
       "  trending_date                                              title  \\\n",
       "0    2017-11-14  Sharry Mann: Cute Munda ( Song Teaser) | Parmi...   \n",
       "1    2017-11-14  पीरियड्स के समय, पेट पर पति करता ऐसा, देखकर दं...   \n",
       "2    2017-11-14  Stylish Star Allu Arjun @ ChaySam Wedding Rece...   \n",
       "\n",
       "     channel_title  category_id publish_time  \\\n",
       "0  Lokdhun Punjabi            1     12:20:39   \n",
       "1          HJ NEWS           25     05:43:56   \n",
       "2             TFPC           24     15:48:08   \n",
       "\n",
       "                                                tags    views  likes  \\\n",
       "0  sharry mann|\"sharry mann new song\"|\"sharry man...  1096327  33966   \n",
       "1  पीरियड्स के समय|\"पेट पर पति करता ऐसा\"|\"देखकर द...   590101    735   \n",
       "2  Stylish Star Allu Arjun @ ChaySam Wedding Rece...   473988   2011   \n",
       "\n",
       "   dislikes  comment_count  comments_disabled  ratings_disabled  \\\n",
       "0       798            882              False             False   \n",
       "1       904              0               True             False   \n",
       "2       243            149              False             False   \n",
       "\n",
       "   video_error_or_removed                                        description  \\\n",
       "0                   False  Presenting Sharry Mann latest Punjabi Song  Cu...   \n",
       "1                   False  पीरियड्स के समय, पेट पर पति करता ऐसा, देखकर दं...   \n",
       "2                   False  Watch Stylish Star Allu Arjun @ ChaySam Weddin...   \n",
       "\n",
       "   No_tags  desc_len  len_title publish_date  \n",
       "0       15       920         81   2017-11-12  \n",
       "1       19      2232         58   2017-11-13  \n",
       "2       14       482         58   2017-11-12  "
      ]
     },
     "execution_count": 3,
     "metadata": {},
     "output_type": "execute_result"
    }
   ],
   "source": [
    "# Quick look at the data\n",
    "df.head(3)"
   ]
  },
  {
   "cell_type": "code",
   "execution_count": 4,
   "id": "ee17c3a6-5d7b-43b5-a655-0277c93e0014",
   "metadata": {},
   "outputs": [
    {
     "name": "stdout",
     "output_type": "stream",
     "text": [
      "<class 'pandas.core.frame.DataFrame'>\n",
      "RangeIndex: 36791 entries, 0 to 36790\n",
      "Data columns (total 18 columns):\n",
      " #   Column                  Non-Null Count  Dtype         \n",
      "---  ------                  --------------  -----         \n",
      " 0   trending_date           36791 non-null  object        \n",
      " 1   title                   36791 non-null  object        \n",
      " 2   channel_title           36791 non-null  object        \n",
      " 3   category_id             36791 non-null  int64         \n",
      " 4   publish_time            36791 non-null  object        \n",
      " 5   tags                    36791 non-null  object        \n",
      " 6   views                   36791 non-null  int64         \n",
      " 7   likes                   36791 non-null  int64         \n",
      " 8   dislikes                36791 non-null  int64         \n",
      " 9   comment_count           36791 non-null  int64         \n",
      " 10  comments_disabled       36791 non-null  bool          \n",
      " 11  ratings_disabled        36791 non-null  bool          \n",
      " 12  video_error_or_removed  36791 non-null  bool          \n",
      " 13  description             36746 non-null  object        \n",
      " 14  No_tags                 36791 non-null  int64         \n",
      " 15  desc_len                36791 non-null  int64         \n",
      " 16  len_title               36791 non-null  int64         \n",
      " 17  publish_date            36791 non-null  datetime64[ns]\n",
      "dtypes: bool(3), datetime64[ns](1), int64(8), object(6)\n",
      "memory usage: 4.3+ MB\n"
     ]
    }
   ],
   "source": [
    "df.info()"
   ]
  },
  {
   "cell_type": "markdown",
   "id": "0216a83e-5089-4100-950f-41e7a22e7621",
   "metadata": {},
   "source": [
    "The missing values is only in 'description' column, which normally it's normal for youtube videos to not including video description. And since this is a regression model, some of the string type columns such as description will be dropped."
   ]
  },
  {
   "cell_type": "code",
   "execution_count": 5,
   "id": "7b6c122b-c196-47f3-8ea1-b5adcb23a80b",
   "metadata": {},
   "outputs": [
    {
     "data": {
      "text/plain": [
       "<AxesSubplot:>"
      ]
     },
     "execution_count": 5,
     "metadata": {},
     "output_type": "execute_result"
    },
    {
     "data": {
      "image/png": "[encoded data removed]",
      "text/plain": [
       "<Figure size 720x720 with 2 Axes>"
      ]
     },
     "metadata": {},
     "output_type": "display_data"
    }
   ],
   "source": [
    "sns.set(rc={'figure.figsize':(10,10)})\n",
    "sns.heatmap(df.corr(), cmap='Blues', annot=True, fmt='.2f')"
   ]
  },
  {
   "cell_type": "markdown",
   "id": "0837c2f0-6b88-4ad0-9e3e-50ac7b90e3f4",
   "metadata": {},
   "source": [
    "This is actually a good dataset, with 'views' as the target it has very strong correlation with 'likes' variable. Instictively with a 85% correlation between target and a variable, by just using 'likes' variable it should be sufficient to accurately predict the regression model.\n",
    "\n",
    "Looking at other variable 'comment_count' is redundant with the most important variable 'views', so it can be considered to not use 'comment_count' variable."
   ]
  },
  {
   "cell_type": "markdown",
   "id": "d723515d-5ec6-4289-aba9-ac1f2931d94b",
   "metadata": {},
   "source": [
    "# Preprocessing"
   ]
  },
  {
   "cell_type": "code",
   "execution_count": 6,
   "id": "5108f38f-0f44-4699-8025-ba8202a6c0dd",
   "metadata": {},
   "outputs": [
    {
     "name": "stdout",
     "output_type": "stream",
     "text": [
      "4229\n"
     ]
    }
   ],
   "source": [
    "# Checking duplicates\n",
    "print(df.duplicated().sum())"
   ]
  },
  {
   "cell_type": "markdown",
   "id": "2e8861e5-9648-40b7-a049-0e067a59dd6d",
   "metadata": {},
   "source": [
    "There are 4229 duplicated values, so lets drop it"
   ]
  },
  {
   "cell_type": "code",
   "execution_count": 7,
   "id": "af21a47c-0fc2-4596-a1be-697510bca944",
   "metadata": {},
   "outputs": [
    {
     "name": "stdout",
     "output_type": "stream",
     "text": [
      "************************************************** \n",
      "\n"
     ]
    }
   ],
   "source": [
    "# Dropping duplicates\n",
    "df = df.drop_duplicates()\n",
    "print('*'*50, '\\n')"
   ]
  },
  {
   "cell_type": "markdown",
   "id": "5bbb046d-8068-47ee-b8ed-a06df4d9747b",
   "metadata": {},
   "source": [
    "Since datetime type variable can't directly used in regression model, so some variables need to be preprocessed where there are 2 preprocessing here:\n",
    "* Combine 'trending_date' and 'publish_date' by substracting the values to see how many days it took to be a trending video.\n",
    "* Converting 'publish_time' into six category of time in a day"
   ]
  },
  {
   "cell_type": "code",
   "execution_count": 8,
   "id": "2df7ef75-9df0-4350-aeeb-79ff196964ec",
   "metadata": {},
   "outputs": [
    {
     "name": "stdout",
     "output_type": "stream",
     "text": [
      "**************************************************\n"
     ]
    }
   ],
   "source": [
    "# To see how many days it took to be trending since published\n",
    "df['trending_gap'] = pd.to_datetime(df['trending_date']) - df['publish_date']\n",
    "# Took the number only\n",
    "df['trending_gap'] = df['trending_gap'].dt.days\n",
    "print('*'*50)"
   ]
  },
  {
   "cell_type": "code",
   "execution_count": 9,
   "id": "61e2e613-0572-4c0d-9e8d-c71946aae1ff",
   "metadata": {},
   "outputs": [],
   "source": [
    "# Converting publish time into 6 category\n",
    "def daypart(hour):\n",
    "    if hour in [2,3,4,5]:\n",
    "        return 'dawn'\n",
    "    elif hour in [6,7,8,9]:\n",
    "        return 'morning'\n",
    "    elif hour in [10,11,12,13]:\n",
    "        return 'noon'\n",
    "    elif hour in [14,15,16,17]:\n",
    "        return 'afternoon'\n",
    "    elif hour in [18,19,20,21]:\n",
    "        return 'evening'\n",
    "    elif hour in [22,23,0,1]:\n",
    "        return 'midnight'\n",
    "\n",
    "df['publish_time'] = pd.to_datetime(df['publish_time'])\n",
    "df['publish_time'] = df['publish_time'].dt.hour.apply(daypart)"
   ]
  },
  {
   "cell_type": "markdown",
   "id": "17d1d883-77e4-4d82-9b23-e86e4698ceb8",
   "metadata": {},
   "source": [
    "# Feature Engineering"
   ]
  },
  {
   "cell_type": "markdown",
   "id": "55cb8ae2-ec56-46fa-850a-517b9814003f",
   "metadata": {},
   "source": [
    "String(object) type variables will be hard to be processed in a regression model and datetime type variable also already been preprocessed so it can be dropped"
   ]
  },
  {
   "cell_type": "code",
   "execution_count": 10,
   "id": "477c4a0e-b3e6-40e1-8a1d-998e7bf13b77",
   "metadata": {},
   "outputs": [],
   "source": [
    "# Unrelevant Features\n",
    "drop_dtypes = ['object','datetime64[ns]']\n",
    "drops = list(df.select_dtypes(include=drop_dtypes).columns)\n",
    "drops.remove('publish_time')\n",
    "df = df.drop([*drops], axis=1)"
   ]
  },
  {
   "cell_type": "markdown",
   "id": "27e31c0d-5ded-42e0-bc02-a28ba0417b63",
   "metadata": {},
   "source": [
    "Separating numerical and categorical variables"
   ]
  },
  {
   "cell_type": "code",
   "execution_count": 11,
   "id": "b0021360-d23b-4206-babf-4a104c04118c",
   "metadata": {},
   "outputs": [],
   "source": [
    "cat_dtypes = ['object','bool']\n",
    "cats = list(df.select_dtypes(include=cat_dtypes).columns)\n",
    "# cats.append('category_id')\n",
    "\n",
    "nums = list(df.select_dtypes(exclude=cat_dtypes).columns)\n",
    "nums.remove('category_id')"
   ]
  },
  {
   "cell_type": "markdown",
   "id": "1fcdacc0-3250-4c89-ba89-222a1528313b",
   "metadata": {},
   "source": [
    "Checking numerical values distribution"
   ]
  },
  {
   "cell_type": "code",
   "execution_count": 12,
   "id": "e0058b29-cb28-4a2e-a8ff-32c2dfa8ad73",
   "metadata": {},
   "outputs": [
    {
     "data": {
      "image/png": "[encoded data removed]",
      "text/plain": [
       "<Figure size 864x360 with 8 Axes>"
      ]
     },
     "metadata": {},
     "output_type": "display_data"
    }
   ],
   "source": [
    "plt.figure(figsize=(12, 5))\n",
    "for i in range(0, len(nums)):\n",
    "    plt.subplot(3, len(nums)/2, i+1)\n",
    "    sns.distplot(df[nums[i]], color='green')\n",
    "    plt.tight_layout()"
   ]
  },
  {
   "cell_type": "markdown",
   "id": "a29af60f-99df-4233-bb9a-9d72f9ea8044",
   "metadata": {},
   "source": [
    "Since there are many outliers normally it should be dropped, but let's see first if keeping those outliers can improve model accuracy\n",
    "\n",
    "And removing outliers also removing 8000 rows of data, so let's try keeping a separate dataset witout outliers"
   ]
  },
  {
   "cell_type": "code",
   "execution_count": 13,
   "id": "f032690f-8d1a-406c-8bfe-5703e501cbf5",
   "metadata": {},
   "outputs": [
    {
     "name": "stdout",
     "output_type": "stream",
     "text": [
      "rows before outlier filter : 32562\n",
      "rows after outlier filter : 24410\n"
     ]
    }
   ],
   "source": [
    "print(f'rows before outlier filter : {len(df)}')\n",
    "filtered_entries = np.array([True] * len(df))\n",
    "\n",
    "for column in [*nums]:\n",
    "    Q1 = df[column].quantile(0.25)\n",
    "    Q3 = df[column].quantile(0.75)\n",
    "    IQR = Q3 - Q1\n",
    "    \n",
    "    low_limit = Q1 - (IQR * 1.5)\n",
    "    high_limit = Q3 + (IQR * 1.5)\n",
    "  \n",
    "    filtered_entries = (df[column]>=low_limit) & (df[column]<=high_limit) & filtered_entries\n",
    "    \n",
    "dfo = df[filtered_entries]\n",
    "print(f'rows after outlier filter : {len(dfo)}')"
   ]
  },
  {
   "cell_type": "markdown",
   "id": "50696ee4-5540-4c93-8af6-8857e0ee4f3c",
   "metadata": {},
   "source": [
    "Normally numerical values needs to be scaled, but let's see first if keeping original values can improve model accuracy"
   ]
  },
  {
   "cell_type": "code",
   "execution_count": 14,
   "id": "e1430f32-2de5-49dc-afaa-080b8ddf97f0",
   "metadata": {},
   "outputs": [],
   "source": [
    "# for num in nums:\n",
    "#     df[num] = MinMaxScaler().fit_transform(df[num].values.reshape(len(df),1))\n",
    "\n",
    "# df[nums] = StandardScaler().fit_transform(df[nums])"
   ]
  },
  {
   "cell_type": "markdown",
   "id": "6342ff84-edbe-4215-958d-42eb05c2ee0b",
   "metadata": {},
   "source": [
    "Checking categorical variable values"
   ]
  },
  {
   "cell_type": "code",
   "execution_count": 15,
   "id": "30f05866-55c5-4af3-8c55-b07279cbd334",
   "metadata": {},
   "outputs": [
    {
     "name": "stdout",
     "output_type": "stream",
     "text": [
      "publish_time-------------['noon' 'dawn' 'afternoon' 'morning' 'midnight' 'evening']\n",
      "comments_disabled--------[False  True]\n",
      "ratings_disabled---------[False  True]\n",
      "video_error_or_removed---[False  True]\n"
     ]
    }
   ],
   "source": [
    "for cat in df[cats]:\n",
    "    print(f'{cat :-<25}{df[cat].unique()}')"
   ]
  },
  {
   "cell_type": "markdown",
   "id": "8a632c4d-4c59-4675-994c-5138f33a0b99",
   "metadata": {},
   "source": [
    "One hot encoding for categorical variables"
   ]
  },
  {
   "cell_type": "code",
   "execution_count": 16,
   "id": "6aa45e26-e55b-43f7-afcf-8573358db1f2",
   "metadata": {},
   "outputs": [],
   "source": [
    "df=pd.get_dummies(df, columns=['publish_time'])"
   ]
  },
  {
   "cell_type": "markdown",
   "id": "71ecc67a-7a20-4c3d-a744-0424743b4c0f",
   "metadata": {},
   "source": [
    "# Modelling"
   ]
  },
  {
   "cell_type": "code",
   "execution_count": 55,
   "id": "0afe847a-d5f5-458f-b3ab-4f1c10b46df2",
   "metadata": {},
   "outputs": [],
   "source": [
    "# Make the model by choosing the variables want to be dropped\n",
    "drop_cols = ['views']\n",
    "X = df.loc[:, ~df.columns.isin(drop_cols)]\n",
    "\n",
    "# Make the model by choosing the variables want to be used\n",
    "# used_cols = ['likes', 'dislikes', 'comment_count', 'comments_disabled',\n",
    "#              'ratings_disabled', 'video_error_or_removed', 'No_tags', 'desc_len',\n",
    "#              'len_title', 'trending_gap']\n",
    "# used_cols = ['likes','dislikes','comment_count','desc_len','len_title','No_tags']\n",
    "# X = df.loc[:, df.columns.isin(used_cols)]\n",
    "y = df['views']\n",
    "Xtrain, Xtest, ytrain, ytest = train_test_split(X, y, test_size=0.2, random_state=42)"
   ]
  },
  {
   "cell_type": "code",
   "execution_count": 18,
   "id": "2bc6c646-f4d0-47de-9691-e83395af30a6",
   "metadata": {},
   "outputs": [],
   "source": [
    "def eval_regression(model, pred, xtrain, ytrain, xtest, ytest):\n",
    "    print(\"MAE : %.3f\" % mean_absolute_error(ytest, pred))\n",
    "    print(\"RMSE : %.3f\" % mean_squared_error(ytest, pred, squared=False))\n",
    "    print('R2 score : %.3f' % r2_score(ytest, pred))"
   ]
  },
  {
   "cell_type": "code",
   "execution_count": 19,
   "id": "5cfac44d-05da-4d16-948e-7efadd30484b",
   "metadata": {},
   "outputs": [],
   "source": [
    "def boost_models(x):\n",
    "    regr_trans = TransformedTargetRegressor(\n",
    "        regressor=x, transformer=QuantileTransformer(output_distribution='normal'))\n",
    "    regr_trans.fit(Xtrain, ytrain)\n",
    "    ypred = regr_trans.predict(Xtest)\n",
    "    algoname = x.__class__.__name__\n",
    "    score = algoname, r2_score(ytest, ypred), mean_absolute_error(ytest, ypred), np.sqrt(mean_squared_error(ytest, ypred))\n",
    "    return score"
   ]
  },
  {
   "cell_type": "code",
   "execution_count": 56,
   "id": "ff6f0365-a4c6-4aa4-95d2-f99aa18c1181",
   "metadata": {},
   "outputs": [
    {
     "data": {
      "text/html": [
       "<div>\n",
       "<style scoped>\n",
       "    .dataframe tbody tr th:only-of-type {\n",
       "        vertical-align: middle;\n",
       "    }\n",
       "\n",
       "    .dataframe tbody tr th {\n",
       "        vertical-align: top;\n",
       "    }\n",
       "\n",
       "    .dataframe thead th {\n",
       "        text-align: right;\n",
       "    }\n",
       "</style>\n",
       "<table border=\"1\" class=\"dataframe\">\n",
       "  <thead>\n",
       "    <tr style=\"text-align: right;\">\n",
       "      <th></th>\n",
       "      <th>Model</th>\n",
       "      <th>R2_Score</th>\n",
       "      <th>MAE</th>\n",
       "      <th>RMSE</th>\n",
       "    </tr>\n",
       "  </thead>\n",
       "  <tbody>\n",
       "    <tr>\n",
       "      <th>4</th>\n",
       "      <td>LGBMRegressor</td>\n",
       "      <td>0.812434</td>\n",
       "      <td>331972.844928</td>\n",
       "      <td>1.407064e+06</td>\n",
       "    </tr>\n",
       "    <tr>\n",
       "      <th>3</th>\n",
       "      <td>GradientBoostingRegressor</td>\n",
       "      <td>0.828124</td>\n",
       "      <td>381055.572199</td>\n",
       "      <td>1.346928e+06</td>\n",
       "    </tr>\n",
       "    <tr>\n",
       "      <th>0</th>\n",
       "      <td>DecisionTreeRegressor</td>\n",
       "      <td>0.917561</td>\n",
       "      <td>298588.276045</td>\n",
       "      <td>9.328284e+05</td>\n",
       "    </tr>\n",
       "    <tr>\n",
       "      <th>2</th>\n",
       "      <td>XGBRegressor</td>\n",
       "      <td>0.949815</td>\n",
       "      <td>259236.694385</td>\n",
       "      <td>7.278177e+05</td>\n",
       "    </tr>\n",
       "    <tr>\n",
       "      <th>1</th>\n",
       "      <td>RandomForestRegressor</td>\n",
       "      <td>0.956943</td>\n",
       "      <td>232280.197222</td>\n",
       "      <td>6.741547e+05</td>\n",
       "    </tr>\n",
       "  </tbody>\n",
       "</table>\n",
       "</div>"
      ],
      "text/plain": [
       "                       Model  R2_Score            MAE          RMSE\n",
       "4              LGBMRegressor  0.812434  331972.844928  1.407064e+06\n",
       "3  GradientBoostingRegressor  0.828124  381055.572199  1.346928e+06\n",
       "0      DecisionTreeRegressor  0.917561  298588.276045  9.328284e+05\n",
       "2               XGBRegressor  0.949815  259236.694385  7.278177e+05\n",
       "1      RandomForestRegressor  0.956943  232280.197222  6.741547e+05"
      ]
     },
     "execution_count": 56,
     "metadata": {},
     "output_type": "execute_result"
    }
   ],
   "source": [
    "algo = [DecisionTreeRegressor(),RandomForestRegressor(),XGBRegressor(),\n",
    "        GradientBoostingRegressor(), LGBMRegressor()]\n",
    "score = []\n",
    "\n",
    "for alg in algo:\n",
    "    score.append(boost_models(alg))\n",
    "    \n",
    "score_df = pd.DataFrame(score, columns=['Model', 'R2_Score', 'MAE', 'RMSE'])\n",
    "score_df.sort_values('R2_Score')"
   ]
  },
  {
   "cell_type": "markdown",
   "id": "9055a854-5c73-44eb-abf2-323da5183f20",
   "metadata": {},
   "source": [
    "### Comparing if using QuantileTransformer is actually giving better results"
   ]
  },
  {
   "cell_type": "code",
   "execution_count": null,
   "id": "7ca9c05d-1534-4d18-9314-42c56b1da21b",
   "metadata": {},
   "outputs": [],
   "source": [
    "rf = RandomForestRegressor()\n",
    "ttr = TransformedTargetRegressor(\n",
    "    regressor=rf, transformer=QuantileTransformer(output_distribution='normal'))\n",
    "ttr.fit(Xtrain, ytrain)\n",
    "ypred = ttr.predict(Xtest)\n",
    "eval_regression(ttr, ypred, Xtrain, ytrain, Xtest, ytest)"
   ]
  },
  {
   "cell_type": "code",
   "execution_count": 60,
   "id": "3b2f23b4-0240-4c1c-8fcd-553aef1a1d77",
   "metadata": {},
   "outputs": [
    {
     "name": "stdout",
     "output_type": "stream",
     "text": [
      "MAE : 230758.963\n",
      "RMSE : 616812.775\n",
      "R2 score : 0.964\n"
     ]
    }
   ],
   "source": [
    "rf = RandomForestRegressor()\n",
    "rf.fit(Xtrain, ytrain)\n",
    "ypred = rf.predict(Xtest)\n",
    "eval_regression(rf, ypred, Xtrain, ytrain, Xtest, ytest)"
   ]
  },
  {
   "cell_type": "code",
   "execution_count": 61,
   "id": "ee8b2f92-8ea1-4fff-aceb-99a5eb5973aa",
   "metadata": {},
   "outputs": [
    {
     "data": {
      "image/png": "[encoded data removed]",
      "text/plain": [
       "<Figure size 720x576 with 1 Axes>"
      ]
     },
     "metadata": {
      "needs_background": "light"
     },
     "output_type": "display_data"
    }
   ],
   "source": [
    "def show_feature_importance(model):\n",
    "    feat_importances = pd.Series(model.feature_importances_, index=X.columns)\n",
    "    ax = feat_importances.nlargest(25).plot(kind='barh', figsize=(10, 8))\n",
    "    ax.invert_yaxis()\n",
    "\n",
    "    plt.xlabel('score')\n",
    "    plt.ylabel('feature')\n",
    "    plt.title('feature importance score')\n",
    "\n",
    "show_feature_importance(rf)"
   ]
  },
  {
   "cell_type": "markdown",
   "id": "db299470-659a-477d-9f1f-7a4c601b290a",
   "metadata": {},
   "source": [
    "* From 1st try on feature importance actually there are many irrelevant features\n",
    "* Will try again using important features only: \n",
    "['likes','dislikes','dislikes','comment_count','desc_len','len_title','No_tags','trending_gap']"
   ]
  },
  {
   "cell_type": "markdown",
   "id": "07aba596-573a-43f0-9977-16a623ea2a0c",
   "metadata": {},
   "source": [
    "### Checking if removing outliers gave better results"
   ]
  },
  {
   "cell_type": "code",
   "execution_count": 63,
   "id": "30200ec6-1006-4f9b-bbc7-e389c231174f",
   "metadata": {},
   "outputs": [
    {
     "data": {
      "text/html": [
       "<div>\n",
       "<style scoped>\n",
       "    .dataframe tbody tr th:only-of-type {\n",
       "        vertical-align: middle;\n",
       "    }\n",
       "\n",
       "    .dataframe tbody tr th {\n",
       "        vertical-align: top;\n",
       "    }\n",
       "\n",
       "    .dataframe thead th {\n",
       "        text-align: right;\n",
       "    }\n",
       "</style>\n",
       "<table border=\"1\" class=\"dataframe\">\n",
       "  <thead>\n",
       "    <tr style=\"text-align: right;\">\n",
       "      <th></th>\n",
       "      <th>Model</th>\n",
       "      <th>R2_Score</th>\n",
       "      <th>MAE</th>\n",
       "      <th>RMSE</th>\n",
       "    </tr>\n",
       "  </thead>\n",
       "  <tbody>\n",
       "    <tr>\n",
       "      <th>0</th>\n",
       "      <td>DecisionTreeRegressor</td>\n",
       "      <td>0.462167</td>\n",
       "      <td>128143.502399</td>\n",
       "      <td>226968.340780</td>\n",
       "    </tr>\n",
       "    <tr>\n",
       "      <th>3</th>\n",
       "      <td>GradientBoostingRegressor</td>\n",
       "      <td>0.651783</td>\n",
       "      <td>110866.092346</td>\n",
       "      <td>182627.597547</td>\n",
       "    </tr>\n",
       "    <tr>\n",
       "      <th>4</th>\n",
       "      <td>LGBMRegressor</td>\n",
       "      <td>0.734072</td>\n",
       "      <td>95623.150703</td>\n",
       "      <td>159596.547123</td>\n",
       "    </tr>\n",
       "    <tr>\n",
       "      <th>1</th>\n",
       "      <td>RandomForestRegressor</td>\n",
       "      <td>0.745304</td>\n",
       "      <td>92271.568151</td>\n",
       "      <td>156189.930648</td>\n",
       "    </tr>\n",
       "    <tr>\n",
       "      <th>2</th>\n",
       "      <td>XGBRegressor</td>\n",
       "      <td>0.769460</td>\n",
       "      <td>88303.629647</td>\n",
       "      <td>148598.664365</td>\n",
       "    </tr>\n",
       "  </tbody>\n",
       "</table>\n",
       "</div>"
      ],
      "text/plain": [
       "                       Model  R2_Score            MAE           RMSE\n",
       "0      DecisionTreeRegressor  0.462167  128143.502399  226968.340780\n",
       "3  GradientBoostingRegressor  0.651783  110866.092346  182627.597547\n",
       "4              LGBMRegressor  0.734072   95623.150703  159596.547123\n",
       "1      RandomForestRegressor  0.745304   92271.568151  156189.930648\n",
       "2               XGBRegressor  0.769460   88303.629647  148598.664365"
      ]
     },
     "execution_count": 63,
     "metadata": {},
     "output_type": "execute_result"
    }
   ],
   "source": [
    "dfo=pd.get_dummies(dfo, columns=['publish_time'])\n",
    "X = dfo.loc[:, ~dfo.columns.isin(drop_cols)]\n",
    "y = dfo['views']\n",
    "Xtrain, Xtest, ytrain, ytest = train_test_split(X, y, test_size=0.2, random_state=42)\n",
    "\n",
    "score = []\n",
    "for alg in algo:\n",
    "    score.append(boost_models(alg))\n",
    "    \n",
    "score_df = pd.DataFrame(score, columns=['Model', 'R2_Score', 'MAE', 'RMSE'])\n",
    "score_df.sort_values('R2_Score')"
   ]
  },
  {
   "cell_type": "markdown",
   "id": "7b6a8672-c4bc-4a52-aa23-8f73960064dc",
   "metadata": {},
   "source": [
    "### This SearchCV uses a lot of computing, only use this if have many free time"
   ]
  },
  {
   "cell_type": "code",
   "execution_count": 62,
   "id": "bf77bf84-4724-422b-8747-9c133086677c",
   "metadata": {},
   "outputs": [
    {
     "name": "stdout",
     "output_type": "stream",
     "text": [
      "Fitting 5 folds for each of 18 candidates, totalling 90 fits\n",
      "{'max_depth': 8, 'n_estimators': 2500, 'reg_lambda': 0.5}\n",
      "MAE : 180015.440\n",
      "RMSE : 560896.044\n",
      "R2 score : 0.970\n"
     ]
    }
   ],
   "source": [
    "param_grid = {'n_estimators': [2500],  \n",
    "              'max_depth': [8],\n",
    "              'reg_lambda' :[0.5]\n",
    "             }\n",
    "                \n",
    "grid = GridSearchCV(XGBRegressor(), param_grid, refit = True, verbose = 3, n_jobs=-1)\n",
    "regr_trans = TransformedTargetRegressor(regressor=grid, transformer=QuantileTransformer(output_distribution='normal'))\n",
    "\n",
    "# fitting the model for grid search \n",
    "grid_result=regr_trans.fit(Xtrain, ytrain)\n",
    "best_params=grid_result.regressor_.best_params_\n",
    "print(best_params)\n",
    "\n",
    "#using best params to create and fit model\n",
    "best_model = XGBRegressor(max_depth=best_params[\"max_depth\"], n_estimators=best_params[\"n_estimators\"], reg_lambda=best_params[\"reg_lambda\"])\n",
    "regr_trans = TransformedTargetRegressor(regressor=best_model, transformer=QuantileTransformer(output_distribution='normal'))\n",
    "regr_trans.fit(Xtrain, ytrain)\n",
    "ypred = regr_trans.predict(Xtest)\n",
    "\n",
    "evaluate metrics\n",
    "eval_regression(regr_trans, ypred, Xtrain, ytrain, Xtest, ytest)"
   ]
  },
  {
   "cell_type": "markdown",
   "id": "c0afaf66-5db3-4cf6-b758-997288e7ad53",
   "metadata": {},
   "source": [
    "### Conclusion"
   ]
  },
  {
   "cell_type": "markdown",
   "id": "fe2bfa3f-c60d-4556-baf2-3e5f28d37803",
   "metadata": {},
   "source": [
    "* Dropping outliers actually give a better MAE & RMSE score (smaller number is better), but have a huge drop on R2 score (higher number is better)\n",
    "\n",
    "* It's better to keep the outliers as it give more accurate R2 score and can also predict more popular videos (videos with huge likes etc)"
   ]
  },
  {
   "cell_type": "markdown",
   "id": "71c02ab8-0971-4759-bd8d-16d90fc0366c",
   "metadata": {},
   "source": [
    "### What to improve"
   ]
  },
  {
   "cell_type": "markdown",
   "id": "9225f0b6-9243-4cd1-85b8-2f4e8c513fed",
   "metadata": {},
   "source": [
    "* Around 95% R2 score is actualy good, but with the MAE & RMSE is still too huge, can't actually declare this is a good model yet.\n",
    "* Deeper exploration and analysis on features should be conducted to give better insight how to improve the model\n",
    "* Try deeper learning using RandomizedSearchCV or GridSearchCV should give better results, but it will took more time to tune the hyperparameters and run the test"
   ]
  },
  {
   "cell_type": "markdown",
   "id": "3a7322fe-88b9-4c75-9a39-345e170cafed",
   "metadata": {},
   "source": [
    "### Additional Notes"
   ]
  },
  {
   "cell_type": "markdown",
   "id": "31fe6039-0bb6-4e7f-a15a-9f7b95391195",
   "metadata": {},
   "source": [
    "* After running test using GridSearchCV on XGBRegressor actually give better results with parameter {'max_depth': 8, 'n_estimators': 2500, 'reg_lambda': 0.5} and the result {MAE : 180015.440, RMSE : 560896.044, R2 score : 0.970}"
   ]
  },
  {
   "cell_type": "markdown",
   "id": "077e8769-51f1-494e-a475-027bdd421ebb",
   "metadata": {},
   "source": [
    "### Reference article:\n",
    "* Improving regression model:\n",
    "https://towardsdatascience.com/how-to-improve-the-accuracy-of-a-regression-model-3517accf8604\n",
    "* DateTime engineering: https://towardsdatascience.com/feature-engineering-on-date-time-data-90f6e954e6b8"
   ]
  }
 ],
 "metadata": {
  "kernelspec": {
   "display_name": "Python 3 (ipykernel)",
   "language": "python",
   "name": "python3"
  },
  "language_info": {
   "codemirror_mode": {
    "name": "ipython",
    "version": 3
   },
   "file_extension": ".py",
   "mimetype": "text/x-python",
   "name": "python",
   "nbconvert_exporter": "python",
   "pygments_lexer": "ipython3",
   "version": "3.8.11"
  }
 },
 "nbformat": 4,
 "nbformat_minor": 5
}
